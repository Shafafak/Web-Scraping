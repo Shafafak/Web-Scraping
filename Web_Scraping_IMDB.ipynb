{
  "nbformat": 4,
  "nbformat_minor": 0,
  "metadata": {
    "colab": {
      "provenance": []
    },
    "kernelspec": {
      "name": "python3",
      "display_name": "Python 3"
    },
    "language_info": {
      "name": "python"
    }
  },
  "cells": [
    {
      "cell_type": "code",
      "execution_count": 57,
      "metadata": {
        "id": "XMsqqfmUjh-G"
      },
      "outputs": [],
      "source": [
        "import requests,openpyxl\n",
        "from bs4 import BeautifulSoup as bs\n",
        "import pandas as pd\n",
        "headers = {'Accept-Language': 'en-US,en;q=0.5'}"
      ]
    },
    {
      "cell_type": "code",
      "source": [
        "excel = openpyxl.Workbook()\n",
        "sheet = excel.active\n",
        "sheet.title = 'Top Rated TV Series'"
      ],
      "metadata": {
        "id": "y-5FdVlNxGSM"
      },
      "execution_count": 48,
      "outputs": []
    },
    {
      "cell_type": "code",
      "source": [
        "sheet.append(['Movie Rank','Movie Name','Year Of Release','IMDB Rating'])"
      ],
      "metadata": {
        "id": "Lo2rdmNnx-Js"
      },
      "execution_count": 51,
      "outputs": []
    },
    {
      "cell_type": "markdown",
      "source": [
        "##Top 250 TV series from IMDB all time list"
      ],
      "metadata": {
        "id": "jo5OFgJtqusg"
      }
    },
    {
      "cell_type": "code",
      "source": [
        "source = requests.get('https://www.imdb.com/chart/toptv/',headers = headers)\n",
        "soup = bs(source.text,'html.parser')"
      ],
      "metadata": {
        "id": "CkdQZQuZlOZF"
      },
      "execution_count": 101,
      "outputs": []
    },
    {
      "cell_type": "code",
      "source": [
        "series = soup.find('tbody',class_ = \"lister-list\").find_all('tr')\n",
        "print(len(series))"
      ],
      "metadata": {
        "colab": {
          "base_uri": "https://localhost:8080/"
        },
        "id": "BFxA0Q_to8VX",
        "outputId": "2536e9b8-1bef-4104-e24e-1b8b8fef3dca"
      },
      "execution_count": 27,
      "outputs": [
        {
          "output_type": "stream",
          "name": "stdout",
          "text": [
            "250\n"
          ]
        }
      ]
    },
    {
      "cell_type": "code",
      "source": [
        "movie_name = []\n",
        "year_ = []\n",
        "rating_ = []\n",
        "rank_=[]"
      ],
      "metadata": {
        "id": "jlzZaDDs9WhQ"
      },
      "execution_count": 69,
      "outputs": []
    },
    {
      "cell_type": "code",
      "source": [
        "for s in series:\n",
        "\n",
        "  name = s.find('td',class_=\"titleColumn\").a.text\n",
        "  movie_name.append(name)\n",
        "  rank = s.find('td',class_=\"titleColumn\").get_text(strip=True).split('.')[0]\n",
        "  rank_.append(rank)\n",
        "  year = s.find('td',class_=\"titleColumn\").span.text.strip('()')\n",
        "  year_.append(year)\n",
        "  rating = s.find('td',class_=\"ratingColumn imdbRating\").strong.text\n",
        "  rating_.append(rating)\n",
        "\n",
        "  sheet.append([rank, name, year, rating])\n"
      ],
      "metadata": {
        "id": "2CdjRjPEmpvm"
      },
      "execution_count": 102,
      "outputs": []
    },
    {
      "cell_type": "code",
      "source": [
        "excel.save('IMDB TV Series.xlsx')"
      ],
      "metadata": {
        "id": "G7Xy3kl4z4oM"
      },
      "execution_count": 103,
      "outputs": []
    },
    {
      "cell_type": "code",
      "source": [
        "a = {'Movie Rank': rank_,'Movie Name' : movie_name,'Year Of Release' : year_,'IMDB Rating' : rating_}\n",
        "Series = pd.DataFrame.from_dict(a,orient='index').reset_index(drop = True).transpose()\n",
        "Series.columns=['Series Rank','Series Name','Year Of Release','IMDB Rating']\n",
        "Series.head(10)"
      ],
      "metadata": {
        "colab": {
          "base_uri": "https://localhost:8080/",
          "height": 363
        },
        "id": "JfcNmdBU6LGA",
        "outputId": "4171cf62-54d8-4190-f28f-dbc4ba1904a8"
      },
      "execution_count": 104,
      "outputs": [
        {
          "output_type": "execute_result",
          "data": {
            "text/plain": [
              "  Series Rank                  Series Name Year Of Release IMDB Rating\n",
              "0           1              Planet Earth II            2016         9.4\n",
              "1           2                 Breaking Bad            2008         9.4\n",
              "2           3                 Planet Earth            2006         9.4\n",
              "3           4             Band of Brothers            2001         9.4\n",
              "4           5                    Chernobyl            2019         9.3\n",
              "5           6                     The Wire            2002         9.3\n",
              "6           7               Blue Planet II            2017         9.2\n",
              "7           8   Avatar: The Last Airbender            2005         9.2\n",
              "8           9  Cosmos: A Spacetime Odyssey            2014         9.2\n",
              "9          10                 The Sopranos            1999         9.2"
            ],
            "text/html": [
              "\n",
              "  <div id=\"df-a28a9339-52ea-491c-9854-4825a7d76bd6\">\n",
              "    <div class=\"colab-df-container\">\n",
              "      <div>\n",
              "<style scoped>\n",
              "    .dataframe tbody tr th:only-of-type {\n",
              "        vertical-align: middle;\n",
              "    }\n",
              "\n",
              "    .dataframe tbody tr th {\n",
              "        vertical-align: top;\n",
              "    }\n",
              "\n",
              "    .dataframe thead th {\n",
              "        text-align: right;\n",
              "    }\n",
              "</style>\n",
              "<table border=\"1\" class=\"dataframe\">\n",
              "  <thead>\n",
              "    <tr style=\"text-align: right;\">\n",
              "      <th></th>\n",
              "      <th>Series Rank</th>\n",
              "      <th>Series Name</th>\n",
              "      <th>Year Of Release</th>\n",
              "      <th>IMDB Rating</th>\n",
              "    </tr>\n",
              "  </thead>\n",
              "  <tbody>\n",
              "    <tr>\n",
              "      <th>0</th>\n",
              "      <td>1</td>\n",
              "      <td>Planet Earth II</td>\n",
              "      <td>2016</td>\n",
              "      <td>9.4</td>\n",
              "    </tr>\n",
              "    <tr>\n",
              "      <th>1</th>\n",
              "      <td>2</td>\n",
              "      <td>Breaking Bad</td>\n",
              "      <td>2008</td>\n",
              "      <td>9.4</td>\n",
              "    </tr>\n",
              "    <tr>\n",
              "      <th>2</th>\n",
              "      <td>3</td>\n",
              "      <td>Planet Earth</td>\n",
              "      <td>2006</td>\n",
              "      <td>9.4</td>\n",
              "    </tr>\n",
              "    <tr>\n",
              "      <th>3</th>\n",
              "      <td>4</td>\n",
              "      <td>Band of Brothers</td>\n",
              "      <td>2001</td>\n",
              "      <td>9.4</td>\n",
              "    </tr>\n",
              "    <tr>\n",
              "      <th>4</th>\n",
              "      <td>5</td>\n",
              "      <td>Chernobyl</td>\n",
              "      <td>2019</td>\n",
              "      <td>9.3</td>\n",
              "    </tr>\n",
              "    <tr>\n",
              "      <th>5</th>\n",
              "      <td>6</td>\n",
              "      <td>The Wire</td>\n",
              "      <td>2002</td>\n",
              "      <td>9.3</td>\n",
              "    </tr>\n",
              "    <tr>\n",
              "      <th>6</th>\n",
              "      <td>7</td>\n",
              "      <td>Blue Planet II</td>\n",
              "      <td>2017</td>\n",
              "      <td>9.2</td>\n",
              "    </tr>\n",
              "    <tr>\n",
              "      <th>7</th>\n",
              "      <td>8</td>\n",
              "      <td>Avatar: The Last Airbender</td>\n",
              "      <td>2005</td>\n",
              "      <td>9.2</td>\n",
              "    </tr>\n",
              "    <tr>\n",
              "      <th>8</th>\n",
              "      <td>9</td>\n",
              "      <td>Cosmos: A Spacetime Odyssey</td>\n",
              "      <td>2014</td>\n",
              "      <td>9.2</td>\n",
              "    </tr>\n",
              "    <tr>\n",
              "      <th>9</th>\n",
              "      <td>10</td>\n",
              "      <td>The Sopranos</td>\n",
              "      <td>1999</td>\n",
              "      <td>9.2</td>\n",
              "    </tr>\n",
              "  </tbody>\n",
              "</table>\n",
              "</div>\n",
              "      <button class=\"colab-df-convert\" onclick=\"convertToInteractive('df-a28a9339-52ea-491c-9854-4825a7d76bd6')\"\n",
              "              title=\"Convert this dataframe to an interactive table.\"\n",
              "              style=\"display:none;\">\n",
              "        \n",
              "  <svg xmlns=\"http://www.w3.org/2000/svg\" height=\"24px\"viewBox=\"0 0 24 24\"\n",
              "       width=\"24px\">\n",
              "    <path d=\"M0 0h24v24H0V0z\" fill=\"none\"/>\n",
              "    <path d=\"M18.56 5.44l.94 2.06.94-2.06 2.06-.94-2.06-.94-.94-2.06-.94 2.06-2.06.94zm-11 1L8.5 8.5l.94-2.06 2.06-.94-2.06-.94L8.5 2.5l-.94 2.06-2.06.94zm10 10l.94 2.06.94-2.06 2.06-.94-2.06-.94-.94-2.06-.94 2.06-2.06.94z\"/><path d=\"M17.41 7.96l-1.37-1.37c-.4-.4-.92-.59-1.43-.59-.52 0-1.04.2-1.43.59L10.3 9.45l-7.72 7.72c-.78.78-.78 2.05 0 2.83L4 21.41c.39.39.9.59 1.41.59.51 0 1.02-.2 1.41-.59l7.78-7.78 2.81-2.81c.8-.78.8-2.07 0-2.86zM5.41 20L4 18.59l7.72-7.72 1.47 1.35L5.41 20z\"/>\n",
              "  </svg>\n",
              "      </button>\n",
              "      \n",
              "  <style>\n",
              "    .colab-df-container {\n",
              "      display:flex;\n",
              "      flex-wrap:wrap;\n",
              "      gap: 12px;\n",
              "    }\n",
              "\n",
              "    .colab-df-convert {\n",
              "      background-color: #E8F0FE;\n",
              "      border: none;\n",
              "      border-radius: 50%;\n",
              "      cursor: pointer;\n",
              "      display: none;\n",
              "      fill: #1967D2;\n",
              "      height: 32px;\n",
              "      padding: 0 0 0 0;\n",
              "      width: 32px;\n",
              "    }\n",
              "\n",
              "    .colab-df-convert:hover {\n",
              "      background-color: #E2EBFA;\n",
              "      box-shadow: 0px 1px 2px rgba(60, 64, 67, 0.3), 0px 1px 3px 1px rgba(60, 64, 67, 0.15);\n",
              "      fill: #174EA6;\n",
              "    }\n",
              "\n",
              "    [theme=dark] .colab-df-convert {\n",
              "      background-color: #3B4455;\n",
              "      fill: #D2E3FC;\n",
              "    }\n",
              "\n",
              "    [theme=dark] .colab-df-convert:hover {\n",
              "      background-color: #434B5C;\n",
              "      box-shadow: 0px 1px 3px 1px rgba(0, 0, 0, 0.15);\n",
              "      filter: drop-shadow(0px 1px 2px rgba(0, 0, 0, 0.3));\n",
              "      fill: #FFFFFF;\n",
              "    }\n",
              "  </style>\n",
              "\n",
              "      <script>\n",
              "        const buttonEl =\n",
              "          document.querySelector('#df-a28a9339-52ea-491c-9854-4825a7d76bd6 button.colab-df-convert');\n",
              "        buttonEl.style.display =\n",
              "          google.colab.kernel.accessAllowed ? 'block' : 'none';\n",
              "\n",
              "        async function convertToInteractive(key) {\n",
              "          const element = document.querySelector('#df-a28a9339-52ea-491c-9854-4825a7d76bd6');\n",
              "          const dataTable =\n",
              "            await google.colab.kernel.invokeFunction('convertToInteractive',\n",
              "                                                     [key], {});\n",
              "          if (!dataTable) return;\n",
              "\n",
              "          const docLinkHtml = 'Like what you see? Visit the ' +\n",
              "            '<a target=\"_blank\" href=https://colab.research.google.com/notebooks/data_table.ipynb>data table notebook</a>'\n",
              "            + ' to learn more about interactive tables.';\n",
              "          element.innerHTML = '';\n",
              "          dataTable['output_type'] = 'display_data';\n",
              "          await google.colab.output.renderOutput(dataTable, element);\n",
              "          const docLink = document.createElement('div');\n",
              "          docLink.innerHTML = docLinkHtml;\n",
              "          element.appendChild(docLink);\n",
              "        }\n",
              "      </script>\n",
              "    </div>\n",
              "  </div>\n",
              "  "
            ]
          },
          "metadata": {},
          "execution_count": 104
        }
      ]
    }
  ]
}